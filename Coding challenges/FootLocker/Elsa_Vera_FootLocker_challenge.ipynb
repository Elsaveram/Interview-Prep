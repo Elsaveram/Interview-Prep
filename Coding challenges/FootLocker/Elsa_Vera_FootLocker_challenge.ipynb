{
 "cells": [
  {
   "cell_type": "markdown",
   "metadata": {},
   "source": [
    "# Question One: Data Access (MySQL)\n",
    "\n",
    "#### Your task is to construct a single SQL query that returns the following results: Summarized total sales, total quantity sold, and total profit (which can be calculated as total sales less cogs) by the week number, store id, product category name. It is important to note that in this business, the week begins on a Tuesday."
   ]
  },
  {
   "cell_type": "code",
   "execution_count": null,
   "metadata": {},
   "outputs": [],
   "source": [
    "SELECT store_id, cat_name, \n",
    "\tWEEK(time_stamp - INTERVAL 2 DAY) AS week_number, \n",
    "    SUM(sales) AS total_sales, \n",
    "    SUM(cogs) AS total_cogs,\n",
    "\tSUM(units) AS total_quantity, \n",
    "    SUM(sales) - SUM(cogs) AS total_profit\n",
    "FROM \n",
    "\tProduct_Detail PD, Order_Detail OD\n",
    "WHERE \n",
    "\tPD.product=OD.product\n",
    "GROUP BY \n",
    "\tweek_number, store_id, cat_name;"
   ]
  },
  {
   "cell_type": "markdown",
   "metadata": {},
   "source": [
    "#### Bonus Question: How would you use Python to access this data and perform these operations?\n",
    "\n",
    "I would implement pyspark code and run the SQL query. "
   ]
  },
  {
   "cell_type": "markdown",
   "metadata": {},
   "source": [
    "# Question Two: Data Transformation (Python 3)\n",
    "\n",
    "#### You are asked to create a dataframe matching this format, where the contents of the cells represent the count of occurrences of product attribute by customer."
   ]
  },
  {
   "cell_type": "code",
   "execution_count": 79,
   "metadata": {},
   "outputs": [],
   "source": [
    "import pandas as pd\n",
    "import numpy as np"
   ]
  },
  {
   "cell_type": "markdown",
   "metadata": {},
   "source": [
    "Create the dataframes:"
   ]
  },
  {
   "cell_type": "code",
   "execution_count": 94,
   "metadata": {},
   "outputs": [
    {
     "data": {
      "text/html": [
       "<div>\n",
       "<style scoped>\n",
       "    .dataframe tbody tr th:only-of-type {\n",
       "        vertical-align: middle;\n",
       "    }\n",
       "\n",
       "    .dataframe tbody tr th {\n",
       "        vertical-align: top;\n",
       "    }\n",
       "\n",
       "    .dataframe thead th {\n",
       "        text-align: right;\n",
       "    }\n",
       "</style>\n",
       "<table border=\"1\" class=\"dataframe\">\n",
       "  <thead>\n",
       "    <tr style=\"text-align: right;\">\n",
       "      <th></th>\n",
       "      <th>product</th>\n",
       "      <th>tags</th>\n",
       "      <th>customer</th>\n",
       "    </tr>\n",
       "  </thead>\n",
       "  <tbody>\n",
       "    <tr>\n",
       "      <th>0</th>\n",
       "      <td>100</td>\n",
       "      <td>[chocolate, sprinkles]</td>\n",
       "      <td>A</td>\n",
       "    </tr>\n",
       "    <tr>\n",
       "      <th>1</th>\n",
       "      <td>100</td>\n",
       "      <td>[chocolate, sprinkles]</td>\n",
       "      <td>C</td>\n",
       "    </tr>\n",
       "    <tr>\n",
       "      <th>2</th>\n",
       "      <td>100</td>\n",
       "      <td>[chocolate, sprinkles]</td>\n",
       "      <td>A</td>\n",
       "    </tr>\n",
       "    <tr>\n",
       "      <th>3</th>\n",
       "      <td>101</td>\n",
       "      <td>[chocolate, filled]</td>\n",
       "      <td>A</td>\n",
       "    </tr>\n",
       "    <tr>\n",
       "      <th>4</th>\n",
       "      <td>101</td>\n",
       "      <td>[chocolate, filled]</td>\n",
       "      <td>B</td>\n",
       "    </tr>\n",
       "    <tr>\n",
       "      <th>5</th>\n",
       "      <td>101</td>\n",
       "      <td>[chocolate, filled]</td>\n",
       "      <td>B</td>\n",
       "    </tr>\n",
       "    <tr>\n",
       "      <th>6</th>\n",
       "      <td>102</td>\n",
       "      <td>[glazed]</td>\n",
       "      <td>C</td>\n",
       "    </tr>\n",
       "    <tr>\n",
       "      <th>7</th>\n",
       "      <td>102</td>\n",
       "      <td>[glazed]</td>\n",
       "      <td>C</td>\n",
       "    </tr>\n",
       "  </tbody>\n",
       "</table>\n",
       "</div>"
      ],
      "text/plain": [
       "   product                    tags customer\n",
       "0      100  [chocolate, sprinkles]        A\n",
       "1      100  [chocolate, sprinkles]        C\n",
       "2      100  [chocolate, sprinkles]        A\n",
       "3      101     [chocolate, filled]        A\n",
       "4      101     [chocolate, filled]        B\n",
       "5      101     [chocolate, filled]        B\n",
       "6      102                [glazed]        C\n",
       "7      102                [glazed]        C"
      ]
     },
     "execution_count": 94,
     "metadata": {},
     "output_type": "execute_result"
    }
   ],
   "source": [
    "data1={'product':[100, 101, 102], 'tags':[['chocolate', 'sprinkles'], ['chocolate', 'filled'], ['glazed']]}\n",
    "Product_Attributes=pd.DataFrame(data1)\n",
    "\n",
    "data2={'customer':['A', 'A', 'B', 'C', 'C', 'B', 'A', 'C'], 'product':[100, 101, 101, 100, 102, 101, 100, 102]}\n",
    "Purchase_History=pd.DataFrame(data2)\n",
    "\n",
    "merged_attributes=pd.merge(Product_Attributes, Purchase_History, how='inner', on='product')\n",
    "merged_attributes"
   ]
  },
  {
   "cell_type": "markdown",
   "metadata": {},
   "source": [
    "Create one column per attribute and count the occourence of product attributes per customer: "
   ]
  },
  {
   "cell_type": "code",
   "execution_count": 84,
   "metadata": {},
   "outputs": [
    {
     "data": {
      "text/html": [
       "<div>\n",
       "<style scoped>\n",
       "    .dataframe tbody tr th:only-of-type {\n",
       "        vertical-align: middle;\n",
       "    }\n",
       "\n",
       "    .dataframe tbody tr th {\n",
       "        vertical-align: top;\n",
       "    }\n",
       "\n",
       "    .dataframe thead th {\n",
       "        text-align: right;\n",
       "    }\n",
       "</style>\n",
       "<table border=\"1\" class=\"dataframe\">\n",
       "  <thead>\n",
       "    <tr style=\"text-align: right;\">\n",
       "      <th></th>\n",
       "      <th>product</th>\n",
       "      <th>chocolate</th>\n",
       "      <th>sprinkles</th>\n",
       "      <th>filled</th>\n",
       "      <th>glazed</th>\n",
       "    </tr>\n",
       "    <tr>\n",
       "      <th>customer</th>\n",
       "      <th></th>\n",
       "      <th></th>\n",
       "      <th></th>\n",
       "      <th></th>\n",
       "      <th></th>\n",
       "    </tr>\n",
       "  </thead>\n",
       "  <tbody>\n",
       "    <tr>\n",
       "      <th>A</th>\n",
       "      <td>301</td>\n",
       "      <td>3</td>\n",
       "      <td>2</td>\n",
       "      <td>1</td>\n",
       "      <td>0</td>\n",
       "    </tr>\n",
       "    <tr>\n",
       "      <th>B</th>\n",
       "      <td>202</td>\n",
       "      <td>2</td>\n",
       "      <td>0</td>\n",
       "      <td>2</td>\n",
       "      <td>0</td>\n",
       "    </tr>\n",
       "    <tr>\n",
       "      <th>C</th>\n",
       "      <td>304</td>\n",
       "      <td>1</td>\n",
       "      <td>1</td>\n",
       "      <td>0</td>\n",
       "      <td>2</td>\n",
       "    </tr>\n",
       "  </tbody>\n",
       "</table>\n",
       "</div>"
      ],
      "text/plain": [
       "          product  chocolate  sprinkles  filled  glazed\n",
       "customer                                               \n",
       "A             301          3          2       1       0\n",
       "B             202          2          0       2       0\n",
       "C             304          1          1       0       2"
      ]
     },
     "execution_count": 84,
     "metadata": {},
     "output_type": "execute_result"
    }
   ],
   "source": [
    "for tag in merged_attributes['tags']:\n",
    "    for attribute in tag:\n",
    "        merged_attributes[attribute]=merged_attributes.tags.apply(lambda x: x.count(attribute))\n",
    "\n",
    "count_attributes=merged_attributes.groupby('customer').sum()\n",
    "count_attributes"
   ]
  },
  {
   "cell_type": "markdown",
   "metadata": {},
   "source": [
    "#### Bonus Question: If the two starting tables were in a relational database or Hadoop cluster and each had a 100 million rows, how might your approach change?"
   ]
  },
  {
   "cell_type": "markdown",
   "metadata": {},
   "source": [
    "I would MapReduce fuctions to break the job across multiple machines (Spark would be faster, if available). "
   ]
  },
  {
   "cell_type": "markdown",
   "metadata": {},
   "source": [
    "# Question 3: Hypothesis testing (Python 3)\n",
    "\n",
    "#### Each visitor to the site is randomly exposed to one of four different product images; visitors are then tracked to see which ones make a purchase or not. Based on the data provided, which version of the image should be selected to be presented to all visitors and why?"
   ]
  },
  {
   "cell_type": "markdown",
   "metadata": {},
   "source": [
    "Build the data frame:"
   ]
  },
  {
   "cell_type": "code",
   "execution_count": 8,
   "metadata": {},
   "outputs": [],
   "source": [
    "data3={'Image': ['A', 'B', 'C', 'D'],'visitors': [21,180, 250, 100], 'purchases': [3, 30, 50, 15] }\n",
    "purchases=pd.DataFrame(data3)"
   ]
  },
  {
   "cell_type": "markdown",
   "metadata": {},
   "source": [
    "Add a column for the number of customer that did not buy:"
   ]
  },
  {
   "cell_type": "code",
   "execution_count": 9,
   "metadata": {},
   "outputs": [
    {
     "data": {
      "text/html": [
       "<div>\n",
       "<style scoped>\n",
       "    .dataframe tbody tr th:only-of-type {\n",
       "        vertical-align: middle;\n",
       "    }\n",
       "\n",
       "    .dataframe tbody tr th {\n",
       "        vertical-align: top;\n",
       "    }\n",
       "\n",
       "    .dataframe thead th {\n",
       "        text-align: right;\n",
       "    }\n",
       "</style>\n",
       "<table border=\"1\" class=\"dataframe\">\n",
       "  <thead>\n",
       "    <tr style=\"text-align: right;\">\n",
       "      <th></th>\n",
       "      <th>Image</th>\n",
       "      <th>visitors</th>\n",
       "      <th>purchases</th>\n",
       "      <th>no_puchase</th>\n",
       "    </tr>\n",
       "  </thead>\n",
       "  <tbody>\n",
       "    <tr>\n",
       "      <th>0</th>\n",
       "      <td>A</td>\n",
       "      <td>21</td>\n",
       "      <td>3</td>\n",
       "      <td>18</td>\n",
       "    </tr>\n",
       "    <tr>\n",
       "      <th>1</th>\n",
       "      <td>B</td>\n",
       "      <td>180</td>\n",
       "      <td>30</td>\n",
       "      <td>150</td>\n",
       "    </tr>\n",
       "    <tr>\n",
       "      <th>2</th>\n",
       "      <td>C</td>\n",
       "      <td>250</td>\n",
       "      <td>50</td>\n",
       "      <td>200</td>\n",
       "    </tr>\n",
       "    <tr>\n",
       "      <th>3</th>\n",
       "      <td>D</td>\n",
       "      <td>100</td>\n",
       "      <td>15</td>\n",
       "      <td>85</td>\n",
       "    </tr>\n",
       "  </tbody>\n",
       "</table>\n",
       "</div>"
      ],
      "text/plain": [
       "  Image  visitors  purchases  no_puchase\n",
       "0     A        21          3          18\n",
       "1     B       180         30         150\n",
       "2     C       250         50         200\n",
       "3     D       100         15          85"
      ]
     },
     "execution_count": 9,
     "metadata": {},
     "output_type": "execute_result"
    }
   ],
   "source": [
    "purchases['no_puchase'] = purchases['visitors'] - purchases['purchases']\n",
    "purchases"
   ]
  },
  {
   "cell_type": "markdown",
   "metadata": {},
   "source": [
    "Make a contingency table:"
   ]
  },
  {
   "cell_type": "code",
   "execution_count": 11,
   "metadata": {},
   "outputs": [
    {
     "data": {
      "text/plain": [
       "array([[  3,  18],\n",
       "       [ 30, 150],\n",
       "       [ 50, 200],\n",
       "       [ 15,  85]])"
      ]
     },
     "execution_count": 11,
     "metadata": {},
     "output_type": "execute_result"
    }
   ],
   "source": [
    "contingency_images=purchases.drop(['Image', 'visitors'], axis=1)\n",
    "contingency_images_ary=np.array(contingency_images)\n",
    "contingency_images_ary"
   ]
  },
  {
   "cell_type": "markdown",
   "metadata": {},
   "source": [
    "Chi squared test:\n",
    "\n",
    "Null hypothesis(H0): The choice of image does not affect purchase.\n",
    "\n",
    "Alternative hypothesis (HA): The choice of image affects purchase."
   ]
  },
  {
   "cell_type": "code",
   "execution_count": 12,
   "metadata": {},
   "outputs": [],
   "source": [
    "from scipy.stats import chi2_contingency"
   ]
  },
  {
   "cell_type": "code",
   "execution_count": 13,
   "metadata": {},
   "outputs": [
    {
     "name": "stdout",
     "output_type": "stream",
     "text": [
      "0.6371433271168085\n"
     ]
    }
   ],
   "source": [
    "chi2, p, dof, expected = chi2_contingency(contingency_images_ary)\n",
    "print (p)"
   ]
  },
  {
   "cell_type": "markdown",
   "metadata": {},
   "source": [
    "As p>0.05, we accept the null hypothesis. Being exposed to one image or another DOES NOT affect purchasese."
   ]
  },
  {
   "cell_type": "markdown",
   "metadata": {},
   "source": [
    "#### Bonus Question: How would your analysis change if the visitors and purchase counts numbered in the millions?"
   ]
  },
  {
   "cell_type": "markdown",
   "metadata": {},
   "source": [
    "Build the data frame"
   ]
  },
  {
   "cell_type": "code",
   "execution_count": 14,
   "metadata": {},
   "outputs": [
    {
     "data": {
      "text/html": [
       "<div>\n",
       "<style scoped>\n",
       "    .dataframe tbody tr th:only-of-type {\n",
       "        vertical-align: middle;\n",
       "    }\n",
       "\n",
       "    .dataframe tbody tr th {\n",
       "        vertical-align: top;\n",
       "    }\n",
       "\n",
       "    .dataframe thead th {\n",
       "        text-align: right;\n",
       "    }\n",
       "</style>\n",
       "<table border=\"1\" class=\"dataframe\">\n",
       "  <thead>\n",
       "    <tr style=\"text-align: right;\">\n",
       "      <th></th>\n",
       "      <th>Image</th>\n",
       "      <th>visitors</th>\n",
       "      <th>purchases</th>\n",
       "      <th>no_puchase</th>\n",
       "    </tr>\n",
       "  </thead>\n",
       "  <tbody>\n",
       "    <tr>\n",
       "      <th>0</th>\n",
       "      <td>A</td>\n",
       "      <td>21000000</td>\n",
       "      <td>3000000</td>\n",
       "      <td>18000000</td>\n",
       "    </tr>\n",
       "    <tr>\n",
       "      <th>1</th>\n",
       "      <td>B</td>\n",
       "      <td>180000000</td>\n",
       "      <td>30000000</td>\n",
       "      <td>150000000</td>\n",
       "    </tr>\n",
       "    <tr>\n",
       "      <th>2</th>\n",
       "      <td>C</td>\n",
       "      <td>250000000</td>\n",
       "      <td>50000000</td>\n",
       "      <td>200000000</td>\n",
       "    </tr>\n",
       "    <tr>\n",
       "      <th>3</th>\n",
       "      <td>D</td>\n",
       "      <td>100000000</td>\n",
       "      <td>15000000</td>\n",
       "      <td>85000000</td>\n",
       "    </tr>\n",
       "  </tbody>\n",
       "</table>\n",
       "</div>"
      ],
      "text/plain": [
       "  Image   visitors  purchases  no_puchase\n",
       "0     A   21000000    3000000    18000000\n",
       "1     B  180000000   30000000   150000000\n",
       "2     C  250000000   50000000   200000000\n",
       "3     D  100000000   15000000    85000000"
      ]
     },
     "execution_count": 14,
     "metadata": {},
     "output_type": "execute_result"
    }
   ],
   "source": [
    "purchases_mill=purchases.copy(deep=True)\n",
    "purchases_mill['visitors']=purchases_mill['visitors']*1000000\n",
    "purchases_mill['purchases']=purchases_mill['purchases']*1000000\n",
    "purchases_mill['no_puchase']=purchases_mill['visitors']-purchases_mill['purchases']\n",
    "purchases_mill"
   ]
  },
  {
   "cell_type": "markdown",
   "metadata": {},
   "source": [
    "Make a contingency table:"
   ]
  },
  {
   "cell_type": "code",
   "execution_count": 16,
   "metadata": {},
   "outputs": [
    {
     "data": {
      "text/plain": [
       "array([[  3000000,  18000000],\n",
       "       [ 30000000, 150000000],\n",
       "       [ 50000000, 200000000],\n",
       "       [ 15000000,  85000000]])"
      ]
     },
     "execution_count": 16,
     "metadata": {},
     "output_type": "execute_result"
    }
   ],
   "source": [
    "contingency_images_mill=purchases_mill.drop(['Image', 'visitors'], axis=1)\n",
    "contingency_images_ary_mill=np.array(contingency_images_mill)\n",
    "contingency_images_ary_mill"
   ]
  },
  {
   "cell_type": "markdown",
   "metadata": {},
   "source": [
    "Chi squared test:"
   ]
  },
  {
   "cell_type": "code",
   "execution_count": 17,
   "metadata": {},
   "outputs": [
    {
     "name": "stdout",
     "output_type": "stream",
     "text": [
      "0.0\n"
     ]
    }
   ],
   "source": [
    "chi2, p, dof, expected = chi2_contingency(contingency_images_ary_mill)\n",
    "print (p)"
   ]
  },
  {
   "cell_type": "markdown",
   "metadata": {},
   "source": [
    "p<0.05, if visitors and purchase counts are numbered in millions, we reject the null hypothesis. Therefore, being exposed to one image or another, in this case DOES affect purchase."
   ]
  },
  {
   "cell_type": "markdown",
   "metadata": {},
   "source": [
    "# Question 4: Model Evaluation\n",
    "\n",
    "#### Using the diagnostic output and correlation matrix below, determine what is wrong with this model and explain your findings."
   ]
  },
  {
   "cell_type": "markdown",
   "metadata": {},
   "source": [
    "Null Hypothesis(H0): B1=B=B3=B4=B5=B6=B7\n",
    "Alternative Hypothesis(HA): At least one of the B's does not equal to 0\n",
    "\n",
    "In our case, the p-value associated to the F statistic is 0.01. This means that we reject the null hypothesis, therefore at least one of the B's is not equal to 0. The B's represent the expected change in Y when X shifts by one unit. In our case, ONLY B5 has a significant p value (p<0.05), in this case 0.01. Therefore, X1, X2, X3, X4, X6, X7, X8 and X9 do not have any effect on Y, only X5 has an effect on Y.\n",
    "\n",
    "Multiple Linear Regression Model: Y= Intercept +B1X1 +B2X2 +B3X3 +B4X4 +B5X5 +B6X6 +B7X7 +B8X8 + e\n",
    "\n",
    "For Multiple Linear Regression the validity of our model depends on the following assumptions:\n",
    "\n",
    "1. Linearity. \n",
    "To test the linear relationship between the dependent and independent variables we would have to see the data represented in a scatterplot.\n",
    "\n",
    "2. Constant variance\n",
    "\n",
    "3. Normality\n",
    "To test for normality we would have to represent a quantile-quantile plot.\n",
    "\n",
    "4. Independent errors\n",
    "In order to test assumptions 2 and 4 we would have to represent a residual plot (scatterplot of the residual values versus the fitted values).\n",
    "\n",
    "Assumptions 1-4 should be checked and confirmed for each predictor variable.\n",
    "\n",
    "5. Multicolinearity:\n",
    "Our predictor variables have to be uncorrelated. To test for this assumption we can inspect the correlation matrix. In our case, this assumption is violated as, 7 out of our 8 variables are correlated to each other, all except  X1, presenting correlation coefficients from 0.57-0.91, with positive or negative sign. \n",
    "\n",
    "Our R2 is decent (0.52) but still low. It expresses the amount of variability of the response variable explained by the predictor variables. The adjusted R2 is adjusted by the number of predictor variables, in our case 8. Adjusting for the 8  predictors drops the value of R2 to 0.4, indicating that increasing the number of predictors do not explain more variability of Y.\n",
    "\n",
    "In summary, multiple linear regression model does not fit the data well, as at least one assumptions is violated, multicolinearity. To reduce multicolinearity we can reduce the number of vaiables, in our case, to X5 which is  the only variable that has a significant effect on Y and it is correlated with all the other predictors except with X1.\n",
    "\n",
    "To improve linearity, we could try to transform our data taking logs, using Box Cox transformation or\n",
    "squared root on X1 which is the only predictor that is not correlated to X5 and try to improve its linear relationship \n",
    "with the response variable.\n",
    "\n",
    "In this case, due to the lack of effect of most of the predictors on the response variable, regularization with Ridge or Lasso will not improve our model.  I would try to use a tree based model such as random forest or boosted trees where multicolinearity is not a problem. "
   ]
  },
  {
   "cell_type": "markdown",
   "metadata": {},
   "source": [
    "# Question 5: Data Analysis\n",
    "\n",
    "#### Evaluate ShinyFancyObjects and determine if it would be a good investment."
   ]
  },
  {
   "cell_type": "code",
   "execution_count": 66,
   "metadata": {},
   "outputs": [],
   "source": [
    "data4 = {\n",
    "    'cohort':['Jan-16', 'Feb-16', 'Mar-16', 'Apr-16', 'May-16', 'Jun-16', 'Jul-16', 'Aug-16', 'Sep-16', 'Oct-16','Nov-16', 'Dec-16', 'Jan-17', 'Feb-17'],\n",
    "    'month_0':[1098, 1358, 1257, 1587, 1758, 1624, 1541, 868, 1143, 1253, 1835, 2155, 2422, 2531],\n",
    "    'month_1':[875, 1019, 892, 1174, 1213, 1137, 1002, 521, 629, 639, 899, 862, 848, 0],\n",
    "    'month_2':[800, 996, 741, 924, 1000, 954, 874, 499, 451, 338, 241, 205, 0, 0],\n",
    "    'month_3':[765, 826, 705, 838, 751, 754, 621, 400, 384, 255, 107, 0, 0, 0],\n",
    "    'month_4':[552, 713, 648, 699, 605, 403, 322, 158, 205, 117, 0, 0, 0, 0],\n",
    "    'month_5':[421, 524, 498, 354, 305, 248, 201, 118, 100,  0, 0, 0, 0, 0],\n",
    "    'month_6':[403, 500, 395, 205, 165, 205, 168, 75,  0, 0, 0, 0, 0, 0],\n",
    "    'month_7':[382, 495, 205, 158, 111, 165, 105,  0, 0, 0, 0, 0, 0, 0],\n",
    "    'month_8':[367, 389, 168, 104, 90, 100, 0, 0, 0, 0, 0, 0, 0, 0],\n",
    "    'month_9':[341, 301, 132, 79, 65, 0, 0, 0, 0, 0, 0, 0, 0, 0],\n",
    "    'month_10':[295, 257, 121, 55, 0, 0, 0, 0, 0, 0, 0, 0, 0, 0],\n",
    "    'month_11':[244, 178, 84,  0, 0, 0, 0, 0, 0, 0, 0, 0, 0, 0],\n",
    "    'month_12':[201, 133, 0, 0, 0, 0, 0, 0, 0, 0, 0, 0, 0, 0],\n",
    "    'month_13':[185, 0, 0, 0, 0, 0, 0, 0, 0, 0, 0, 0, 0, 0],\n",
    "}"
   ]
  },
  {
   "cell_type": "code",
   "execution_count": 67,
   "metadata": {},
   "outputs": [],
   "source": [
    "Retention=pd.DataFrame(data4)\n",
    "Retention_rate=Retention.copy(deep=True)"
   ]
  },
  {
   "cell_type": "code",
   "execution_count": 68,
   "metadata": {},
   "outputs": [],
   "source": [
    "for i in range(1,14):\n",
    "    month_var = 'month_' + str(i)\n",
    "    Retention_rate[month_var]=list(map(lambda x,y: x*100/y, Retention_rate[month_var], Retention_rate['month_0']))"
   ]
  },
  {
   "cell_type": "code",
   "execution_count": 69,
   "metadata": {},
   "outputs": [
    {
     "data": {
      "text/html": [
       "<div>\n",
       "<style scoped>\n",
       "    .dataframe tbody tr th:only-of-type {\n",
       "        vertical-align: middle;\n",
       "    }\n",
       "\n",
       "    .dataframe tbody tr th {\n",
       "        vertical-align: top;\n",
       "    }\n",
       "\n",
       "    .dataframe thead th {\n",
       "        text-align: right;\n",
       "    }\n",
       "</style>\n",
       "<table border=\"1\" class=\"dataframe\">\n",
       "  <thead>\n",
       "    <tr style=\"text-align: right;\">\n",
       "      <th></th>\n",
       "      <th>cohort</th>\n",
       "      <th>month_0</th>\n",
       "      <th>month_1</th>\n",
       "      <th>month_2</th>\n",
       "      <th>month_3</th>\n",
       "      <th>month_4</th>\n",
       "      <th>month_5</th>\n",
       "      <th>month_6</th>\n",
       "      <th>month_7</th>\n",
       "      <th>month_8</th>\n",
       "      <th>month_9</th>\n",
       "      <th>month_10</th>\n",
       "      <th>month_11</th>\n",
       "      <th>month_12</th>\n",
       "      <th>month_13</th>\n",
       "    </tr>\n",
       "  </thead>\n",
       "  <tbody>\n",
       "    <tr>\n",
       "      <th>0</th>\n",
       "      <td>Jan-16</td>\n",
       "      <td>1098</td>\n",
       "      <td>79.690346</td>\n",
       "      <td>72.859745</td>\n",
       "      <td>69.672131</td>\n",
       "      <td>50.273224</td>\n",
       "      <td>38.342441</td>\n",
       "      <td>36.703097</td>\n",
       "      <td>34.790528</td>\n",
       "      <td>33.424408</td>\n",
       "      <td>31.056466</td>\n",
       "      <td>26.867031</td>\n",
       "      <td>22.222222</td>\n",
       "      <td>18.306011</td>\n",
       "      <td>16.848816</td>\n",
       "    </tr>\n",
       "    <tr>\n",
       "      <th>1</th>\n",
       "      <td>Feb-16</td>\n",
       "      <td>1358</td>\n",
       "      <td>75.036819</td>\n",
       "      <td>73.343152</td>\n",
       "      <td>60.824742</td>\n",
       "      <td>52.503682</td>\n",
       "      <td>38.586156</td>\n",
       "      <td>36.818851</td>\n",
       "      <td>36.450663</td>\n",
       "      <td>28.645066</td>\n",
       "      <td>22.164948</td>\n",
       "      <td>18.924890</td>\n",
       "      <td>13.107511</td>\n",
       "      <td>9.793814</td>\n",
       "      <td>0.000000</td>\n",
       "    </tr>\n",
       "    <tr>\n",
       "      <th>2</th>\n",
       "      <td>Mar-16</td>\n",
       "      <td>1257</td>\n",
       "      <td>70.962609</td>\n",
       "      <td>58.949881</td>\n",
       "      <td>56.085919</td>\n",
       "      <td>51.551313</td>\n",
       "      <td>39.618138</td>\n",
       "      <td>31.424025</td>\n",
       "      <td>16.308671</td>\n",
       "      <td>13.365155</td>\n",
       "      <td>10.501193</td>\n",
       "      <td>9.626094</td>\n",
       "      <td>6.682578</td>\n",
       "      <td>0.000000</td>\n",
       "      <td>0.000000</td>\n",
       "    </tr>\n",
       "    <tr>\n",
       "      <th>3</th>\n",
       "      <td>Apr-16</td>\n",
       "      <td>1587</td>\n",
       "      <td>73.976055</td>\n",
       "      <td>58.223062</td>\n",
       "      <td>52.804033</td>\n",
       "      <td>44.045369</td>\n",
       "      <td>22.306238</td>\n",
       "      <td>12.917454</td>\n",
       "      <td>9.955892</td>\n",
       "      <td>6.553245</td>\n",
       "      <td>4.977946</td>\n",
       "      <td>3.465658</td>\n",
       "      <td>0.000000</td>\n",
       "      <td>0.000000</td>\n",
       "      <td>0.000000</td>\n",
       "    </tr>\n",
       "    <tr>\n",
       "      <th>4</th>\n",
       "      <td>May-16</td>\n",
       "      <td>1758</td>\n",
       "      <td>68.998862</td>\n",
       "      <td>56.882821</td>\n",
       "      <td>42.718999</td>\n",
       "      <td>34.414107</td>\n",
       "      <td>17.349261</td>\n",
       "      <td>9.385666</td>\n",
       "      <td>6.313993</td>\n",
       "      <td>5.119454</td>\n",
       "      <td>3.697383</td>\n",
       "      <td>0.000000</td>\n",
       "      <td>0.000000</td>\n",
       "      <td>0.000000</td>\n",
       "      <td>0.000000</td>\n",
       "    </tr>\n",
       "    <tr>\n",
       "      <th>5</th>\n",
       "      <td>Jun-16</td>\n",
       "      <td>1624</td>\n",
       "      <td>70.012315</td>\n",
       "      <td>58.743842</td>\n",
       "      <td>46.428571</td>\n",
       "      <td>24.815271</td>\n",
       "      <td>15.270936</td>\n",
       "      <td>12.623153</td>\n",
       "      <td>10.160099</td>\n",
       "      <td>6.157635</td>\n",
       "      <td>0.000000</td>\n",
       "      <td>0.000000</td>\n",
       "      <td>0.000000</td>\n",
       "      <td>0.000000</td>\n",
       "      <td>0.000000</td>\n",
       "    </tr>\n",
       "    <tr>\n",
       "      <th>6</th>\n",
       "      <td>Jul-16</td>\n",
       "      <td>1541</td>\n",
       "      <td>65.022713</td>\n",
       "      <td>56.716418</td>\n",
       "      <td>40.298507</td>\n",
       "      <td>20.895522</td>\n",
       "      <td>13.043478</td>\n",
       "      <td>10.902012</td>\n",
       "      <td>6.813757</td>\n",
       "      <td>0.000000</td>\n",
       "      <td>0.000000</td>\n",
       "      <td>0.000000</td>\n",
       "      <td>0.000000</td>\n",
       "      <td>0.000000</td>\n",
       "      <td>0.000000</td>\n",
       "    </tr>\n",
       "    <tr>\n",
       "      <th>7</th>\n",
       "      <td>Aug-16</td>\n",
       "      <td>868</td>\n",
       "      <td>60.023041</td>\n",
       "      <td>57.488479</td>\n",
       "      <td>46.082949</td>\n",
       "      <td>18.202765</td>\n",
       "      <td>13.594470</td>\n",
       "      <td>8.640553</td>\n",
       "      <td>0.000000</td>\n",
       "      <td>0.000000</td>\n",
       "      <td>0.000000</td>\n",
       "      <td>0.000000</td>\n",
       "      <td>0.000000</td>\n",
       "      <td>0.000000</td>\n",
       "      <td>0.000000</td>\n",
       "    </tr>\n",
       "    <tr>\n",
       "      <th>8</th>\n",
       "      <td>Sep-16</td>\n",
       "      <td>1143</td>\n",
       "      <td>55.030621</td>\n",
       "      <td>39.457568</td>\n",
       "      <td>33.595801</td>\n",
       "      <td>17.935258</td>\n",
       "      <td>8.748906</td>\n",
       "      <td>0.000000</td>\n",
       "      <td>0.000000</td>\n",
       "      <td>0.000000</td>\n",
       "      <td>0.000000</td>\n",
       "      <td>0.000000</td>\n",
       "      <td>0.000000</td>\n",
       "      <td>0.000000</td>\n",
       "      <td>0.000000</td>\n",
       "    </tr>\n",
       "    <tr>\n",
       "      <th>9</th>\n",
       "      <td>Oct-16</td>\n",
       "      <td>1253</td>\n",
       "      <td>50.997606</td>\n",
       "      <td>26.975259</td>\n",
       "      <td>20.351157</td>\n",
       "      <td>9.337590</td>\n",
       "      <td>0.000000</td>\n",
       "      <td>0.000000</td>\n",
       "      <td>0.000000</td>\n",
       "      <td>0.000000</td>\n",
       "      <td>0.000000</td>\n",
       "      <td>0.000000</td>\n",
       "      <td>0.000000</td>\n",
       "      <td>0.000000</td>\n",
       "      <td>0.000000</td>\n",
       "    </tr>\n",
       "    <tr>\n",
       "      <th>10</th>\n",
       "      <td>Nov-16</td>\n",
       "      <td>1835</td>\n",
       "      <td>48.991826</td>\n",
       "      <td>13.133515</td>\n",
       "      <td>5.831063</td>\n",
       "      <td>0.000000</td>\n",
       "      <td>0.000000</td>\n",
       "      <td>0.000000</td>\n",
       "      <td>0.000000</td>\n",
       "      <td>0.000000</td>\n",
       "      <td>0.000000</td>\n",
       "      <td>0.000000</td>\n",
       "      <td>0.000000</td>\n",
       "      <td>0.000000</td>\n",
       "      <td>0.000000</td>\n",
       "    </tr>\n",
       "    <tr>\n",
       "      <th>11</th>\n",
       "      <td>Dec-16</td>\n",
       "      <td>2155</td>\n",
       "      <td>40.000000</td>\n",
       "      <td>9.512761</td>\n",
       "      <td>0.000000</td>\n",
       "      <td>0.000000</td>\n",
       "      <td>0.000000</td>\n",
       "      <td>0.000000</td>\n",
       "      <td>0.000000</td>\n",
       "      <td>0.000000</td>\n",
       "      <td>0.000000</td>\n",
       "      <td>0.000000</td>\n",
       "      <td>0.000000</td>\n",
       "      <td>0.000000</td>\n",
       "      <td>0.000000</td>\n",
       "    </tr>\n",
       "    <tr>\n",
       "      <th>12</th>\n",
       "      <td>Jan-17</td>\n",
       "      <td>2422</td>\n",
       "      <td>35.012386</td>\n",
       "      <td>0.000000</td>\n",
       "      <td>0.000000</td>\n",
       "      <td>0.000000</td>\n",
       "      <td>0.000000</td>\n",
       "      <td>0.000000</td>\n",
       "      <td>0.000000</td>\n",
       "      <td>0.000000</td>\n",
       "      <td>0.000000</td>\n",
       "      <td>0.000000</td>\n",
       "      <td>0.000000</td>\n",
       "      <td>0.000000</td>\n",
       "      <td>0.000000</td>\n",
       "    </tr>\n",
       "    <tr>\n",
       "      <th>13</th>\n",
       "      <td>Feb-17</td>\n",
       "      <td>2531</td>\n",
       "      <td>0.000000</td>\n",
       "      <td>0.000000</td>\n",
       "      <td>0.000000</td>\n",
       "      <td>0.000000</td>\n",
       "      <td>0.000000</td>\n",
       "      <td>0.000000</td>\n",
       "      <td>0.000000</td>\n",
       "      <td>0.000000</td>\n",
       "      <td>0.000000</td>\n",
       "      <td>0.000000</td>\n",
       "      <td>0.000000</td>\n",
       "      <td>0.000000</td>\n",
       "      <td>0.000000</td>\n",
       "    </tr>\n",
       "  </tbody>\n",
       "</table>\n",
       "</div>"
      ],
      "text/plain": [
       "    cohort  month_0    month_1    month_2    month_3    month_4    month_5  \\\n",
       "0   Jan-16     1098  79.690346  72.859745  69.672131  50.273224  38.342441   \n",
       "1   Feb-16     1358  75.036819  73.343152  60.824742  52.503682  38.586156   \n",
       "2   Mar-16     1257  70.962609  58.949881  56.085919  51.551313  39.618138   \n",
       "3   Apr-16     1587  73.976055  58.223062  52.804033  44.045369  22.306238   \n",
       "4   May-16     1758  68.998862  56.882821  42.718999  34.414107  17.349261   \n",
       "5   Jun-16     1624  70.012315  58.743842  46.428571  24.815271  15.270936   \n",
       "6   Jul-16     1541  65.022713  56.716418  40.298507  20.895522  13.043478   \n",
       "7   Aug-16      868  60.023041  57.488479  46.082949  18.202765  13.594470   \n",
       "8   Sep-16     1143  55.030621  39.457568  33.595801  17.935258   8.748906   \n",
       "9   Oct-16     1253  50.997606  26.975259  20.351157   9.337590   0.000000   \n",
       "10  Nov-16     1835  48.991826  13.133515   5.831063   0.000000   0.000000   \n",
       "11  Dec-16     2155  40.000000   9.512761   0.000000   0.000000   0.000000   \n",
       "12  Jan-17     2422  35.012386   0.000000   0.000000   0.000000   0.000000   \n",
       "13  Feb-17     2531   0.000000   0.000000   0.000000   0.000000   0.000000   \n",
       "\n",
       "      month_6    month_7    month_8    month_9   month_10   month_11  \\\n",
       "0   36.703097  34.790528  33.424408  31.056466  26.867031  22.222222   \n",
       "1   36.818851  36.450663  28.645066  22.164948  18.924890  13.107511   \n",
       "2   31.424025  16.308671  13.365155  10.501193   9.626094   6.682578   \n",
       "3   12.917454   9.955892   6.553245   4.977946   3.465658   0.000000   \n",
       "4    9.385666   6.313993   5.119454   3.697383   0.000000   0.000000   \n",
       "5   12.623153  10.160099   6.157635   0.000000   0.000000   0.000000   \n",
       "6   10.902012   6.813757   0.000000   0.000000   0.000000   0.000000   \n",
       "7    8.640553   0.000000   0.000000   0.000000   0.000000   0.000000   \n",
       "8    0.000000   0.000000   0.000000   0.000000   0.000000   0.000000   \n",
       "9    0.000000   0.000000   0.000000   0.000000   0.000000   0.000000   \n",
       "10   0.000000   0.000000   0.000000   0.000000   0.000000   0.000000   \n",
       "11   0.000000   0.000000   0.000000   0.000000   0.000000   0.000000   \n",
       "12   0.000000   0.000000   0.000000   0.000000   0.000000   0.000000   \n",
       "13   0.000000   0.000000   0.000000   0.000000   0.000000   0.000000   \n",
       "\n",
       "     month_12   month_13  \n",
       "0   18.306011  16.848816  \n",
       "1    9.793814   0.000000  \n",
       "2    0.000000   0.000000  \n",
       "3    0.000000   0.000000  \n",
       "4    0.000000   0.000000  \n",
       "5    0.000000   0.000000  \n",
       "6    0.000000   0.000000  \n",
       "7    0.000000   0.000000  \n",
       "8    0.000000   0.000000  \n",
       "9    0.000000   0.000000  \n",
       "10   0.000000   0.000000  \n",
       "11   0.000000   0.000000  \n",
       "12   0.000000   0.000000  \n",
       "13   0.000000   0.000000  "
      ]
     },
     "execution_count": 69,
     "metadata": {},
     "output_type": "execute_result"
    }
   ],
   "source": [
    "Retention_rate"
   ]
  },
  {
   "cell_type": "markdown",
   "metadata": {},
   "source": [
    "The Retention Rate table shows the percentage of customers still active relative to month 0, which is 100%. As we can see, ShinyFancyObject, although growing the customer number over the months, the retention rate of new customers is decreasing from January 2016 to February 2017, as can be seen comparing the new feature released in November 2016, even though increased the number of new customers, it did not improve the retention rate, which in month 3, went from 20.35% in October 2016 to 5.83% in November 2016. The November 16 two month retention is worse than ten month in April of the same year.\n",
    "\n",
    "The new feature in November plus some unknown event in September is leading to much worse customer retention rates. Given the declining user retention rates I would not invest in the company until the issues leading to retention rates were identified, fixed, and numbers improved."
   ]
  },
  {
   "cell_type": "markdown",
   "metadata": {},
   "source": [
    "#### Bonus Question: What other data sources would be helpful in making your recommendation?"
   ]
  },
  {
   "cell_type": "markdown",
   "metadata": {},
   "source": [
    "Another data souce that could be helpful is the average revenue per customer, to see if a possible increase in revenue per customer can compensate the decrease in retention rate."
   ]
  }
 ],
 "metadata": {
  "kernelspec": {
   "display_name": "Python 3",
   "language": "python",
   "name": "python3"
  },
  "language_info": {
   "codemirror_mode": {
    "name": "ipython",
    "version": 3
   },
   "file_extension": ".py",
   "mimetype": "text/x-python",
   "name": "python",
   "nbconvert_exporter": "python",
   "pygments_lexer": "ipython3",
   "version": "3.6.4"
  }
 },
 "nbformat": 4,
 "nbformat_minor": 2
}
